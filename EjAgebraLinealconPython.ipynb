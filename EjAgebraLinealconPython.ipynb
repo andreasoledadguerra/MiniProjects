{
 "cells": [
  {
   "cell_type": "markdown",
   "metadata": {},
   "source": [
    "# EJercicio de álebra lineal con Python\n",
    "\n",
    "Escribir un programa en Python para generar dos vectores de N elementos al azar con valores entre −1 y 1, donde N es previamente ingresado por el usuario. Considerando que estos vectores son las coordenadas x e y de puntos, determinar mediante una función cuantos de ellos se encuentran en el primer cuadrante. Por otro lado, determinar el valor máximo y mínimo de cada vector. Finalmente, realizar un g¯a co de los puntos asignándole nombre a los ejes y al grá co. Nota: En general, los generadores de números al azar crean valores en el intervalo [0, 1]. Si lo que queremos son números en el intervalo [a, b], debemos hacer para cada número z ∈ [0, 1] obtenido, la siguiente operación w = z (b − a) + a, de forma tal que ahora w ∈ [a, b]"
   ]
  },
  {
   "cell_type": "code",
   "execution_count": null,
   "metadata": {},
   "outputs": [],
   "source": [
    "import random\n",
    "\n",
    "import matplotlib as plt #importación de módulos de python\n",
    "\n",
    "class puntos_de_vectores:\n",
    "    def __init__(self, N): # \"self\" es un parámetro para referirse al objeto per se,es convención\n",
    "        self.N = N\n",
    "        self.vector_x, self. vector_y = self.gen_vectores()\n",
    "\n",
    "    #generar vectores de N elemntos al azar entre -1 y 1.\n",
    "    def gen_vectores(self):\n",
    "        vector_x = [random.uniform(-1,1) for i in range (self.N)] # \"random.uniform\" devuelve un número real\n",
    "        vector_y = [random.uniform(-1,1) for i in range (self.N)] # aleatorio en el rango\n",
    "        return vector_x, vector_y                                 #[-1, 1) extraído de manera uniforme\n",
    "\n",
    "\n",
    "    #contar cuántos puntos están en el primer cuadrante\n",
    "    def puntos_primer_cuadrante(self):\n",
    "        contador = sum(1 for x,y in zip (self.vector_x, self.vector_y) if x > 0 and y > 0) #zip() en python crea objetos\n",
    "        return contador                                                       #iterables en dos listas en forma paralela\n",
    "        print(f\"\\nCantidad de puntos en el primer cuadrante: {cuadrante_count}\")\n",
    "\n",
    "    #obtener el valor máximo y minimo de un vector\n",
    "    def obtener_max_min(self,  vector):\n",
    "        maximo = max(vector)\n",
    "        minimo = min(vector)\n",
    "        return maximo, minimo\n",
    "\n",
    "    # mostrar resultados\n",
    "    def mostrar_resultados(self):\n",
    "        cuadrante_count = self.puntos_primer_cuadrante()\n",
    "        maximo_x, minimo_x = self.obtener_maximo_minimo(self.vector_x)\n",
    "        maximo_y, minimo_y = self.obtener_maximo_minimo(self.vector_y)\n",
    "\n",
    "        print(f\"Valor máximo de vector_x: {maximo_x}\")\n",
    "        print(f\"Valor mínimo de vector_x: {minimo_x}\")\n",
    "        print(f\"Valor máximo de vector_y: {maximo_y}\")\n",
    "        print(f\"Valor mínimo de vector_y: {minimo_y}\")\n",
    "\n",
    "   # graficar puntos\n",
    "    def graficar_puntos(self):\n",
    "        plt.axhline(0, color='black', linewidth=0.5)\n",
    "        plt.axvline(0, color='black', linewidth=0.5)\n",
    "        plt.title('Gráfico de Puntos')\n",
    "        plt.xlabel('Coordenada X')\n",
    "        plt.ylabel('Coordenada Y')\n",
    "        plt.show()\n",
    "\n",
    "      # le pedimos al usuario que ingrese los dos vectores:\n",
    "        N = int(input(\"Ingrese el valor de N para la cantidad de elementos en los vectores: \"))\n",
    "\n",
    "      # creamos una instancia de la clase puntos_de_vectores\n",
    "        puntos = puntos_de_vectores(N)\n",
    "\n",
    "      # mostramos resultados y graficamos dichos puntos\n",
    "        puntos.mostrar_resultados()\n",
    "        puntos.graficar_puntos()\n"
   ]
  }
 ],
 "metadata": {
  "language_info": {
   "name": "python"
  }
 },
 "nbformat": 4,
 "nbformat_minor": 2
}
